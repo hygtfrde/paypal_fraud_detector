{
 "cells": [
  {
   "cell_type": "markdown",
   "id": "3aee4c86-317d-486a-8850-d9745dfafd5d",
   "metadata": {},
   "source": [
    "# Install Required Modules"
   ]
  },
  {
   "cell_type": "code",
   "execution_count": null,
   "id": "bc0d5468-8fcd-446f-9146-04902c56244f",
   "metadata": {},
   "outputs": [],
   "source": [
    "pip install -r requirements.txt"
   ]
  },
  {
   "cell_type": "code",
   "execution_count": 3,
   "id": "b63ea9a7-93b7-4052-8e39-d3b8630af848",
   "metadata": {},
   "outputs": [],
   "source": [
    "import pandas as pd\n",
    "import numpy as np\n",
    "from sklearn.model_selection import train_test_split\n",
    "from sklearn.ensemble import (\n",
    "    RandomForestClassifier, \n",
    "    AdaBoostClassifier, \n",
    "    GradientBoostingClassifier, \n",
    "    VotingClassifier\n",
    ")\n",
    "from sklearn.metrics import (\n",
    "    classification_report, \n",
    "    confusion_matrix, \n",
    "    precision_recall_curve,\n",
    "    average_precision_score\n",
    ")\n",
    "from sklearn.preprocessing import MinMaxScaler\n",
    "from imblearn.over_sampling import SMOTE, ADASYN\n",
    "import matplotlib.pyplot as plt\n",
    "\n",
    "import time\n",
    "import threading\n",
    "import pickle"
   ]
  },
  {
   "cell_type": "markdown",
   "id": "a0f5879e-1514-4894-81a8-c30707f8a807",
   "metadata": {},
   "source": [
    "# Define Helper Function(s)"
   ]
  },
  {
   "cell_type": "code",
   "execution_count": 1,
   "id": "cedeee2d-c2af-4c3d-b153-3ec5ff15c2ff",
   "metadata": {},
   "outputs": [],
   "source": [
    "def close_plot_after_delay(fig, delay):\n",
    "    def close():\n",
    "        plt.close(fig)\n",
    "    \n",
    "    timer = threading.Timer(delay, close)\n",
    "    timer.start()"
   ]
  },
  {
   "cell_type": "markdown",
   "id": "9accab42-90a5-4baa-957a-63c6a5e3f824",
   "metadata": {},
   "source": [
    "# Load CSV data as Pandas DF and split into X and Y"
   ]
  },
  {
   "cell_type": "code",
   "execution_count": 5,
   "id": "e481b530-6214-4269-a747-f471057e8737",
   "metadata": {},
   "outputs": [],
   "source": [
    "data = pd.read_csv('../datasets/my_paypal_creditcard.csv')\n",
    "\n",
    "X = data.drop(['Class'], axis=1)\n",
    "y = data['Class']"
   ]
  },
  {
   "cell_type": "markdown",
   "id": "ddedc115-7f68-4928-b464-cbc4f5d36d4a",
   "metadata": {},
   "source": [
    "# Split Test and Train sets"
   ]
  },
  {
   "cell_type": "code",
   "execution_count": 7,
   "id": "fc7a20c5-3b51-436c-9fa5-e46d9a0b5425",
   "metadata": {},
   "outputs": [],
   "source": [
    "X_train, X_test, y_train, y_test = train_test_split(X, y, test_size=0.2, random_state=42)\n",
    "\n",
    "# First, apply SMOTE to the training set\n",
    "smote = SMOTE(random_state=42)\n",
    "X_train_smote, y_train_smote = smote.fit_resample(X_train, y_train)\n",
    "\n",
    "# Then, apply ADASYN to the SMOTE-resampled data\n",
    "adasyn = ADASYN(random_state=42)\n",
    "X_train_combined, y_train_combined = adasyn.fit_resample(X_train_smote, y_train_smote)\n",
    "\n",
    "# Scale X sets using MinMaxScaler for advanced normalization\n",
    "scaler = MinMaxScaler()\n",
    "X_train_scaled = scaler.fit_transform(X_train_combined)\n",
    "X_test_scaled = scaler.transform(X_test)"
   ]
  },
  {
   "cell_type": "markdown",
   "id": "8fc3f252-d7a5-4792-b8e0-5a96de8d59c5",
   "metadata": {},
   "source": [
    "# Initialize base models"
   ]
  },
  {
   "cell_type": "code",
   "execution_count": 10,
   "id": "b4a3533a-50de-4300-9602-a727b35116ef",
   "metadata": {},
   "outputs": [],
   "source": [
    "rf_model = RandomForestClassifier(random_state=42, n_estimators=300, class_weight='balanced', verbose=1)\n",
    "adaboost_model = AdaBoostClassifier(random_state=42, n_estimators=300)\n",
    "gb_model = GradientBoostingClassifier(random_state=42, n_estimators=300, verbose=1)"
   ]
  },
  {
   "cell_type": "markdown",
   "id": "a396d958-cfc1-48e9-83f0-cc98abb283c9",
   "metadata": {},
   "source": [
    "# Create Voting Classifier with RandomForest, AdaBoost, and GradientBoosting"
   ]
  },
  {
   "cell_type": "code",
   "execution_count": 11,
   "id": "ce03839e-0f79-4da8-8a78-73d1e84db238",
   "metadata": {},
   "outputs": [
    {
     "name": "stdout",
     "output_type": "stream",
     "text": [
      "Starting training of the voting model...\n"
     ]
    },
    {
     "name": "stderr",
     "output_type": "stream",
     "text": [
      "[Parallel(n_jobs=1)]: Done  49 tasks      | elapsed:  1.8min\n",
      "[Parallel(n_jobs=1)]: Done 199 tasks      | elapsed:  7.3min\n",
      "/opt/homebrew/Cellar/jupyterlab/4.2.3/libexec/lib/python3.12/site-packages/sklearn/ensemble/_weight_boosting.py:527: FutureWarning: The SAMME.R algorithm (the default) is deprecated and will be removed in 1.6. Use the SAMME algorithm to circumvent this warning.\n",
      "  warnings.warn(\n"
     ]
    },
    {
     "name": "stdout",
     "output_type": "stream",
     "text": [
      "      Iter       Train Loss   Remaining Time \n",
      "         1           1.2210           19.58m\n",
      "         2           1.0855           19.50m\n",
      "         3           0.9720           19.33m\n",
      "         4           0.8764           19.56m\n",
      "         5           0.7951           19.37m\n",
      "         6           0.7239           19.45m\n",
      "         7           0.6620           19.49m\n",
      "         8           0.6091           19.51m\n",
      "         9           0.5618           19.50m\n",
      "        10           0.5199           19.49m\n",
      "        20           0.2870           18.64m\n",
      "        30           0.1956           17.84m\n",
      "        40           0.1519           17.23m\n",
      "        50           0.1262           16.53m\n",
      "        60           0.1100           15.87m\n",
      "        70           0.0985           15.20m\n",
      "        80           0.0887           14.52m\n",
      "        90           0.0807           13.85m\n",
      "       100           0.0739           13.18m\n",
      "       200           0.0365            6.56m\n",
      "       300           0.0210            0.00s\n",
      "\n",
      "Training completed in 37.0 minutes and 36.66 seconds.\n"
     ]
    }
   ],
   "source": [
    "start_time = time.time()\n",
    "\n",
    "voting_model = VotingClassifier(\n",
    "    estimators=[\n",
    "        ('rf', rf_model),\n",
    "        ('adaboost', adaboost_model),\n",
    "        ('gb', gb_model)\n",
    "    ],\n",
    "    voting='soft'\n",
    ")\n",
    "\n",
    "print(\"Starting training of the voting model...\")\n",
    "voting_model.fit(X_train_scaled, y_train_combined)\n",
    "\n",
    "end_time = time.time()\n",
    "training_duration = end_time - start_time\n",
    "\n",
    "print(f\"\\nTraining completed in {training_duration // 60} minutes and {training_duration % 60:.2f} seconds.\")"
   ]
  },
  {
   "cell_type": "markdown",
   "id": "05c4d3b4-575e-4048-b5f9-481668be5b1a",
   "metadata": {},
   "source": [
    "# Make predictions with the voting classifier"
   ]
  },
  {
   "cell_type": "code",
   "execution_count": 12,
   "id": "9f9750a7-9f47-48ec-a23b-6d1af5aa35c8",
   "metadata": {},
   "outputs": [
    {
     "name": "stderr",
     "output_type": "stream",
     "text": [
      "[Parallel(n_jobs=1)]: Done  49 tasks      | elapsed:    0.1s\n",
      "[Parallel(n_jobs=1)]: Done 199 tasks      | elapsed:    0.5s\n"
     ]
    },
    {
     "name": "stdout",
     "output_type": "stream",
     "text": [
      "AUPRC for Voting Model: 0.8811\n"
     ]
    }
   ],
   "source": [
    "y_pred_combined_proba = voting_model.predict_proba(X_test_scaled)[:, 1]\n",
    "\n",
    "# Calculate and print AUPRC\n",
    "auprc_voting = average_precision_score(y_test, y_pred_combined_proba)\n",
    "print(f\"AUPRC for Voting Model: {auprc_voting:.4f}\")"
   ]
  },
  {
   "cell_type": "markdown",
   "id": "bbe9b3f8-cec8-4315-8373-f420925fa8f9",
   "metadata": {},
   "source": [
    "# Compute precision-recall curve"
   ]
  },
  {
   "cell_type": "code",
   "execution_count": 13,
   "id": "287de326-3089-4c86-a190-8f02a80f8dc2",
   "metadata": {},
   "outputs": [
    {
     "data": {
      "image/png": "[encoded data removed]",
      "text/plain": [
       "<Figure size 640x480 with 1 Axes>"
      ]
     },
     "metadata": {},
     "output_type": "display_data"
    }
   ],
   "source": [
    "precision, recall, thresholds = precision_recall_curve(y_test, y_pred_combined_proba)\n",
    "\n",
    "# Create the plot\n",
    "fig, ax = plt.subplots()\n",
    "ax.plot(recall, precision, marker='.')\n",
    "ax.set_xlabel('Recall')\n",
    "ax.set_ylabel('Precision')\n",
    "ax.set_title('Precision-Recall Curve')\n",
    "\n",
    "# Automatically close the plot after 30 seconds\n",
    "close_plot_after_delay(fig, 30)\n",
    "\n",
    "# Show the plot\n",
    "plt.show()"
   ]
  },
  {
   "cell_type": "markdown",
   "id": "ad383f3c-5172-4344-b1f5-6a934fc80813",
   "metadata": {},
   "source": [
    "# Find the optimal threshold based on precision-recall curve"
   ]
  },
  {
   "cell_type": "code",
   "execution_count": 14,
   "id": "53197059-bd39-4449-99a5-f408ba3a76df",
   "metadata": {},
   "outputs": [
    {
     "name": "stdout",
     "output_type": "stream",
     "text": [
      "\n",
      "Optimal Threshold: 0.8424429208544737\n"
     ]
    }
   ],
   "source": [
    "optimal_idx = np.argmax(precision - recall)\n",
    "optimal_threshold = thresholds[optimal_idx] if optimal_idx < len(thresholds) else thresholds[-1]\n",
    "print(f\"\\nOptimal Threshold: {optimal_threshold}\")\n",
    "\n",
    "# Save optimal threshold for reporting or model comparison\n",
    "with open('model_performance.txt', 'a') as f:\n",
    "    f.write(f\"Optimal Threshold: {optimal_threshold}\\n\")"
   ]
  },
  {
   "cell_type": "markdown",
   "id": "12a62c4d-9e83-4d8e-8e02-765597b1de7d",
   "metadata": {},
   "source": [
    "# Make predictions with the optimal threshold"
   ]
  },
  {
   "cell_type": "code",
   "execution_count": 15,
   "id": "2be964a7-c0d2-4d46-8ecd-d3ab0b0262c1",
   "metadata": {},
   "outputs": [
    {
     "name": "stdout",
     "output_type": "stream",
     "text": [
      "\n",
      "Classification Report for Voting Model:\n",
      "              precision    recall  f1-score   support\n",
      "\n",
      "           0       1.00      1.00      1.00     56864\n",
      "           1       0.88      0.85      0.86        98\n",
      "\n",
      "    accuracy                           1.00     56962\n",
      "   macro avg       0.94      0.92      0.93     56962\n",
      "weighted avg       1.00      1.00      1.00     56962\n",
      "\n",
      "\n",
      "Confusion Matrix for Voting Model:\n",
      "[[56853    11]\n",
      " [   15    83]]\n"
     ]
    }
   ],
   "source": [
    "threshold = 0.65\n",
    "y_pred_combined_threshold = (y_pred_combined_proba >= threshold).astype(int)\n",
    "\n",
    "print(\"\\nClassification Report for Voting Model:\")\n",
    "print(classification_report(y_test, y_pred_combined_threshold))\n",
    "\n",
    "print(\"\\nConfusion Matrix for Voting Model:\")\n",
    "print(confusion_matrix(y_test, y_pred_combined_threshold))"
   ]
  },
  {
   "cell_type": "markdown",
   "id": "118544a7-46dc-4bf4-a073-23048f8f5264",
   "metadata": {},
   "source": [
    "# Extract feature importances from individual models"
   ]
  },
  {
   "cell_type": "code",
   "execution_count": 16,
   "id": "a83132aa-9af7-4015-91f3-41a987de414f",
   "metadata": {},
   "outputs": [
    {
     "name": "stdout",
     "output_type": "stream",
     "text": [
      "Some models do not support feature importances, skipping feature importance extraction.\n"
     ]
    }
   ],
   "source": [
    "try:\n",
    "    feature_importance_rf = rf_model.feature_importances_\n",
    "    feature_importance_gb = gb_model.feature_importances_\n",
    "\n",
    "    # Create dataframes for feature importances from both models\n",
    "    feature_importance_rf_df = pd.DataFrame({'feature': X.columns, 'importance_rf': feature_importance_rf})\n",
    "    feature_importance_gb_df = pd.DataFrame({'feature': X.columns, 'importance_gb': feature_importance_gb})\n",
    "\n",
    "    # Merge or compare the feature importances\n",
    "    feature_importance_combined = feature_importance_rf_df.merge(feature_importance_gb_df, on='feature')\n",
    "    print(\"\\nCombined Feature Importances (from RandomForest and GradientBoosting):\")\n",
    "    print(feature_importance_combined)\n",
    "\n",
    "except AttributeError:\n",
    "    print(\"Some models do not support feature importances, skipping feature importance extraction.\")"
   ]
  },
  {
   "cell_type": "markdown",
   "id": "907f9fdd-0205-4c99-9210-d6983e2869fd",
   "metadata": {},
   "source": [
    "# Dump Pickle"
   ]
  },
  {
   "cell_type": "markdown",
   "id": "155200df-6677-46c7-87e4-b93376e42ad6",
   "metadata": {},
   "source": [
    "### To save the model binary \"pickle\" for later use, uncomment the code below and run the cell"
   ]
  },
  {
   "cell_type": "code",
   "execution_count": 17,
   "id": "b9744afb-5d3e-4268-aac8-ae18526360ec",
   "metadata": {},
   "outputs": [],
   "source": [
    "# with open('voting_model.pkl', 'wb') as model_file:\n",
    "#     pickle.dump(voting_model, model_file)"
   ]
  },
  {
   "cell_type": "code",
   "execution_count": null,
   "id": "a9b639f7-6a38-4cb9-8aad-84963f7034bf",
   "metadata": {},
   "outputs": [],
   "source": []
  }
 ],
 "metadata": {
  "kernelspec": {
   "display_name": "Python 3 (ipykernel)",
   "language": "python",
   "name": "python3"
  },
  "language_info": {
   "codemirror_mode": {
    "name": "ipython",
    "version": 3
   },
   "file_extension": ".py",
   "mimetype": "text/x-python",
   "name": "python",
   "nbconvert_exporter": "python",
   "pygments_lexer": "ipython3",
   "version": "3.12.4"
  }
 },
 "nbformat": 4,
 "nbformat_minor": 5
}
